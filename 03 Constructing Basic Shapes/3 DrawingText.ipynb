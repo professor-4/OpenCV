{
 "cells": [
  {
   "cell_type": "code",
   "execution_count": 10,
   "metadata": {},
   "outputs": [
    {
     "data": {
      "image/png": "[encoded data removed]",
      "text/plain": [
       "<Figure size 432x288 with 1 Axes>"
      ]
     },
     "metadata": {
      "needs_background": "light"
     },
     "output_type": "display_data"
    },
    {
     "data": {
      "text/plain": [
       "'available fonts\\nFONT_HERSHEY_SIMPLEX = 0\\nFONT_HERSHEY_PLAIN = 1\\nFONT_HERSHEY_DUPLEX = 2\\nFONT_HERSHEY_COMPLEX = 3\\nFONT_HERSHEY_TRIPLEX = 4\\nFONT_HERSHEY_COMPLEX_SMALL = 5\\nFONT_HERSHEY_SCRIPT_SIMPLEX = 6\\nFONT_HERSHEY_SCRIPT_COMPLEX = 7\\n'"
      ]
     },
     "execution_count": 10,
     "metadata": {},
     "output_type": "execute_result"
    }
   ],
   "source": [
    "import cv2\n",
    "from matplotlib import pyplot as plt\n",
    "import numpy as np\n",
    "\n",
    "def show_with_matplotlib(img, title):\n",
    "    img_RGB = img[:,:,::-1]\n",
    "    \n",
    "    plt.imshow(img_RGB)\n",
    "    plt.title(title)\n",
    "    plt.align()\n",
    "    plt.show()\n",
    "    \n",
    "colors = {'blue': (255, 0, 0), 'green': (0, 255, 0), 'red': (0, 0, 255), 'yellow': (0, 255, 255),\n",
    "          'magenta': (255, 0, 255), 'cyan': (255, 255, 0), 'white': (255, 255, 255), 'black': (0, 0, 0),\n",
    "          'gray': (125, 125, 125),'dark_gray': (50, 50, 50), 'light_gray': (220, 220, 220)}\n",
    "\n",
    "image = np.zeros((500,500,3),dtype='uint8')\n",
    "\n",
    "#syntax: img, text, org (starting coordinates), fontFace, fomt scale, thickness, linetype, bottomLeft origin\n",
    "\n",
    "cv2.putText(image, 'Welcome to My Repo',(10,30),cv2.FONT_HERSHEY_SIMPLEX, 0.9, colors['red'],2,cv2.LINE_4)\n",
    "cv2.putText(image,'I LOVE OPENCV', (30,100),cv2.FONT_HERSHEY_COMPLEX_SMALL,2,colors['yellow'],2,cv2.LINE_AA,)\n",
    "cv2.putText(image,'THANK YOU',(10, 150),cv2.FONT_HERSHEY_SIMPLEX,0.9,colors['cyan'],2,cv2.LINE_8,True)\n",
    "\n",
    "show_with_matplotlib(image,\"Text Images\")\n",
    "\n",
    "\n",
    "'''available fonts\n",
    "FONT_HERSHEY_SIMPLEX = 0\n",
    "FONT_HERSHEY_PLAIN = 1\n",
    "FONT_HERSHEY_DUPLEX = 2\n",
    "FONT_HERSHEY_COMPLEX = 3\n",
    "FONT_HERSHEY_TRIPLEX = 4\n",
    "FONT_HERSHEY_COMPLEX_SMALL = 5\n",
    "FONT_HERSHEY_SCRIPT_SIMPLEX = 6\n",
    "FONT_HERSHEY_SCRIPT_COMPLEX = 7\n",
    "'''"
   ]
  },
  {
   "cell_type": "code",
   "execution_count": null,
   "metadata": {},
   "outputs": [],
   "source": []
  }
 ],
 "metadata": {
  "kernelspec": {
   "display_name": "Python 3",
   "language": "python",
   "name": "python3"
  },
  "language_info": {
   "codemirror_mode": {
    "name": "ipython",
    "version": 3
   },
   "file_extension": ".py",
   "mimetype": "text/x-python",
   "name": "python",
   "nbconvert_exporter": "python",
   "pygments_lexer": "ipython3",
   "version": "3.7.3"
  }
 },
 "nbformat": 4,
 "nbformat_minor": 2
}
